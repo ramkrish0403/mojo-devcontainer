{
 "cells": [
  {
   "cell_type": "code",
   "execution_count": null,
   "id": "a6a1524a",
   "metadata": {
    "vscode": {
     "languageId": "plaintext"
    }
   },
   "outputs": [],
   "source": []
  },
  {
   "cell_type": "code",
   "execution_count": null,
   "id": "18e64b1c",
   "metadata": {
    "vscode": {
     "languageId": "plaintext"
    }
   },
   "outputs": [],
   "source": [
    "from gpu.host import DeviceContext\n",
    "from sys import has_accelerator\n",
    "\n",
    "def main():\n",
    "    @parameter\n",
    "    if not has_accelerator():\n",
    "        print(\"No compatible GPU found\")\n",
    "    else:\n",
    "        ctx = DeviceContext()\n",
    "        print(\"Found GPU:\", ctx.name())"
   ]
  }
 ],
 "metadata": {
  "language_info": {
   "name": "python"
  }
 },
 "nbformat": 4,
 "nbformat_minor": 5
}
