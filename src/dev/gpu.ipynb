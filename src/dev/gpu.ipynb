{
 "cells": [
  {
   "cell_type": "code",
   "execution_count": 2,
   "id": "77670ffe",
   "metadata": {},
   "outputs": [
    {
     "name": "stdout",
     "output_type": "stream",
     "text": [
      "Hello\n"
     ]
    }
   ],
   "source": [
    "fn print1():\n",
    "    print(\"Hello\")\n",
    "\n",
    "print1()"
   ]
  },
  {
   "cell_type": "code",
   "execution_count": 6,
   "id": "18e64b1c",
   "metadata": {},
   "outputs": [
    {
     "name": "stdout",
     "output_type": "stream",
     "text": [
      "No compatible GPU found\n"
     ]
    }
   ],
   "source": [
    "from gpu.host import DeviceContext\n",
    "from sys import has_accelerator\n",
    "\n",
    "def abc():\n",
    "    @parameter\n",
    "    if not has_accelerator():\n",
    "        print(\"No compatible GPU found\")\n",
    "    else:\n",
    "        ctx = DeviceContext()\n",
    "        print(\"Found GPU:\", ctx.name())\n",
    "\n",
    "abc()"
   ]
  },
  {
   "cell_type": "code",
   "execution_count": null,
   "id": "b19d628d",
   "metadata": {},
   "outputs": [],
   "source": []
  }
 ],
 "metadata": {
  "kernelspec": {
   "display_name": "MAX (Conda ENV Mojo kernel)",
   "language": "mojo",
   "name": "mojo"
  },
  "language_info": {
   "codemirror_mode": {
    "name": "mojo"
   },
   "file_extension": ".mojo",
   "mimetype": "text/x-mojo",
   "name": "mojo"
  }
 },
 "nbformat": 4,
 "nbformat_minor": 5
}
