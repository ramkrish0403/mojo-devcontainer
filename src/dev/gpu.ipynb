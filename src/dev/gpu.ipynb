{
 "cells": [
  {
   "cell_type": "code",
   "execution_count": null,
   "id": "a6a1524a",
   "metadata": {},
   "outputs": [],
   "source": []
  },
  {
   "cell_type": "code",
   "execution_count": null,
   "id": "77670ffe",
   "metadata": {},
   "outputs": [
    {
     "ename": "",
     "evalue": "",
     "output_type": "error",
     "traceback": [
      "\u001b[1;31mFailed to start the Kernel. \n",
      "\u001b[1;31m/workspaces/mojo-devcontainer/.pixi/envs/default/bin/mojo: error: no such command 'ipykernel_launcher'. \n",
      "\u001b[1;31mView Jupyter <a href='command:jupyter.viewOutput'>log</a> for further details."
     ]
    }
   ],
   "source": [
    "fn print1():\n",
    "    print(\"Hello\")\n",
    "\n",
    "print1()"
   ]
  },
  {
   "cell_type": "code",
   "execution_count": null,
   "id": "18e64b1c",
   "metadata": {},
   "outputs": [
    {
     "ename": "",
     "evalue": "",
     "output_type": "error",
     "traceback": [
      "\u001b[1;31mFailed to start the Kernel. \n",
      "\u001b[1;31m/workspaces/mojo-devcontainer/.pixi/envs/default/bin/mojo: error: unrecognized argument '-m'. \n",
      "\u001b[1;31mView Jupyter <a href='command:jupyter.viewOutput'>log</a> for further details."
     ]
    }
   ],
   "source": [
    "from gpu.host import DeviceContext\n",
    "from sys import has_accelerator\n",
    "\n",
    "def main():\n",
    "    @parameter\n",
    "    if not has_accelerator():\n",
    "        print(\"No compatible GPU found\")\n",
    "    else:\n",
    "        ctx = DeviceContext()\n",
    "        print(\"Found GPU:\", ctx.name())"
   ]
  },
  {
   "cell_type": "code",
   "execution_count": null,
   "id": "b19d628d",
   "metadata": {},
   "outputs": [],
   "source": []
  }
 ],
 "metadata": {
  "kernelspec": {
   "display_name": "Mojo (ipykernel)",
   "language": "mojo",
   "name": "Mojo"
  },
  "language_info": {
   "codemirror_mode": {
    "name": "ipython",
    "version": 3
   },
   "file_extension": ".py",
   "mimetype": "text/x-python",
   "name": "mojo",
   "nbconvert_exporter": "python",
   "pygments_lexer": "ipython3",
   "version": "3.12.11"
  }
 },
 "nbformat": 4,
 "nbformat_minor": 5
}
